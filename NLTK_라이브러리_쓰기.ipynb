{
  "nbformat": 4,
  "nbformat_minor": 0,
  "metadata": {
    "colab": {
      "name": "NLTK 라이브러리 쓰기.ipynb",
      "provenance": [],
      "collapsed_sections": [],
      "authorship_tag": "ABX9TyOkJTUqYwaDyAU6CHJlua7G",
      "include_colab_link": true
    },
    "kernelspec": {
      "name": "python3",
      "display_name": "Python 3"
    },
    "language_info": {
      "name": "python"
    }
  },
  "cells": [
    {
      "cell_type": "markdown",
      "metadata": {
        "id": "view-in-github",
        "colab_type": "text"
      },
      "source": [
        "<a href=\"https://colab.research.google.com/github/amhamhamh/Python_NLP/blob/main/NLTK_%EB%9D%BC%EC%9D%B4%EB%B8%8C%EB%9F%AC%EB%A6%AC_%EC%93%B0%EA%B8%B0.ipynb\" target=\"_parent\"><img src=\"https://colab.research.google.com/assets/colab-badge.svg\" alt=\"Open In Colab\"/></a>"
      ]
    },
    {
      "cell_type": "code",
      "execution_count": 14,
      "metadata": {
        "id": "GZ3GvdhcWDm6"
      },
      "outputs": [],
      "source": [
        "# ntlk(자연어 처리) 패키지 말뭉치 불러내기\n",
        "import nltk\n",
        "nltk.download(\"book\", quiet=True)\n",
        "from nltk.book import *"
      ]
    },
    {
      "cell_type": "code",
      "source": [
        "# 저작권이 만료된 gutenberg 말뭉치 샘플\n",
        "nltk.corpus.gutenberg.fileids()"
      ],
      "metadata": {
        "colab": {
          "base_uri": "https://localhost:8080/"
        },
        "id": "SQSsexORls39",
        "outputId": "e89878ef-5a56-4fca-d4fa-40e5e6a4bb4f"
      },
      "execution_count": 16,
      "outputs": [
        {
          "output_type": "execute_result",
          "data": {
            "text/plain": [
              "['austen-emma.txt',\n",
              " 'austen-persuasion.txt',\n",
              " 'austen-sense.txt',\n",
              " 'bible-kjv.txt',\n",
              " 'blake-poems.txt',\n",
              " 'bryant-stories.txt',\n",
              " 'burgess-busterbrown.txt',\n",
              " 'carroll-alice.txt',\n",
              " 'chesterton-ball.txt',\n",
              " 'chesterton-brown.txt',\n",
              " 'chesterton-thursday.txt',\n",
              " 'edgeworth-parents.txt',\n",
              " 'melville-moby_dick.txt',\n",
              " 'milton-paradise.txt',\n",
              " 'shakespeare-caesar.txt',\n",
              " 'shakespeare-hamlet.txt',\n",
              " 'shakespeare-macbeth.txt',\n",
              " 'whitman-leaves.txt']"
            ]
          },
          "metadata": {},
          "execution_count": 16
        }
      ]
    },
    {
      "cell_type": "code",
      "source": [
        "# austen의 문서 원문 불러내기\n",
        "persuasion = nltk.corpus.gutenberg.raw('austen-persuasion.txt')\n",
        "print(persuasion[:1000])"
      ],
      "metadata": {
        "colab": {
          "base_uri": "https://localhost:8080/"
        },
        "id": "6R2eQBi_l8ll",
        "outputId": "2bbf6a38-fc04-471f-ca15-e2064cacbe27"
      },
      "execution_count": 18,
      "outputs": [
        {
          "output_type": "stream",
          "name": "stdout",
          "text": [
            "[Persuasion by Jane Austen 1818]\n",
            "\n",
            "\n",
            "Chapter 1\n",
            "\n",
            "\n",
            "Sir Walter Elliot, of Kellynch Hall, in Somersetshire, was a man who,\n",
            "for his own amusement, never took up any book but the Baronetage;\n",
            "there he found occupation for an idle hour, and consolation in a\n",
            "distressed one; there his faculties were roused into admiration and\n",
            "respect, by contemplating the limited remnant of the earliest patents;\n",
            "there any unwelcome sensations, arising from domestic affairs\n",
            "changed naturally into pity and contempt as he turned over\n",
            "the almost endless creations of the last century; and there,\n",
            "if every other leaf were powerless, he could read his own history\n",
            "with an interest which never failed.  This was the page at which\n",
            "the favourite volume always opened:\n",
            "\n",
            "           \"ELLIOT OF KELLYNCH HALL.\n",
            "\n",
            "\"Walter Elliot, born March 1, 1760, married, July 15, 1784, Elizabeth,\n",
            "daughter of James Stevenson, Esq. of South Park, in the county of\n",
            "Gloucester, by which lady (who died 1800) he has issue Elizabeth,\n",
            "born June 1, 1785; Ann\n"
          ]
        }
      ]
    },
    {
      "cell_type": "code",
      "source": [
        "# 토큰으로 분리하여 문자열 리스트로 출력\n",
        "from nltk.tokenize import sent_tokenize\n",
        "print(sent_tokenize(persuasion[:1000])[0])"
      ],
      "metadata": {
        "colab": {
          "base_uri": "https://localhost:8080/"
        },
        "id": "bBB8ovPcmcMa",
        "outputId": "67897dfd-15d5-4b1b-b72c-861621008873"
      },
      "execution_count": 33,
      "outputs": [
        {
          "output_type": "stream",
          "name": "stdout",
          "text": [
            "[Persuasion by Jane Austen 1818]\n",
            "\n",
            "\n",
            "Chapter 1\n",
            "\n",
            "\n",
            "Sir Walter Elliot, of Kellynch Hall, in Somersetshire, was a man who,\n",
            "for his own amusement, never took up any book but the Baronetage;\n",
            "there he found occupation for an idle hour, and consolation in a\n",
            "distressed one; there his faculties were roused into admiration and\n",
            "respect, by contemplating the limited remnant of the earliest patents;\n",
            "there any unwelcome sensations, arising from domestic affairs\n",
            "changed naturally into pity and contempt as he turned over\n",
            "the almost endless creations of the last century; and there,\n",
            "if every other leaf were powerless, he could read his own history\n",
            "with an interest which never failed.\n"
          ]
        }
      ]
    },
    {
      "cell_type": "code",
      "source": [
        "# 단어별 tokenize\n",
        "from nltk.tokenize import word_tokenize\n",
        "word_tokenize(persuasion[50:100])"
      ],
      "metadata": {
        "colab": {
          "base_uri": "https://localhost:8080/"
        },
        "id": "nVdGBIrxm2hT",
        "outputId": "c7faf9f6-4de7-47ac-92ac-b8244868548e"
      },
      "execution_count": 30,
      "outputs": [
        {
          "output_type": "execute_result",
          "data": {
            "text/plain": [
              "['Walter', 'Elliot', ',', 'of', 'Kellynch', 'Hall', ',', 'in', 'Somersetshire']"
            ]
          },
          "metadata": {},
          "execution_count": 30
        }
      ]
    },
    {
      "cell_type": "code",
      "source": [
        "# 쉼표 등의 필요없는 것들 삭제하기\n",
        "from nltk.tokenize import RegexpTokenizer\n",
        "# 단어인거만 추출(정규식)\n",
        "retokenize = RegexpTokenizer(\"[\\w]+\")\n",
        "retokenize.tokenize(persuasion[50:100])"
      ],
      "metadata": {
        "colab": {
          "base_uri": "https://localhost:8080/"
        },
        "id": "p9FaljyYoxyT",
        "outputId": "c25d9fed-6f5d-4652-bcfe-4ceecc022b7e"
      },
      "execution_count": 34,
      "outputs": [
        {
          "output_type": "execute_result",
          "data": {
            "text/plain": [
              "['Walter', 'Elliot', 'of', 'Kellynch', 'Hall', 'in', 'Somersetshire']"
            ]
          },
          "metadata": {},
          "execution_count": 34
        }
      ]
    },
    {
      "cell_type": "code",
      "source": [
        "# 단어의 접미사나 어미를 제거하여 형태소의 기본 찾기 \n",
        "\n",
        "from nltk.stem import PorterStemmer, LancasterStemmer\n",
        "\n",
        "st1 = PorterStemmer()\n",
        "st2 = LancasterStemmer()\n",
        "\n",
        "words =  [\"fly\", \"flies\", \"flying\", \"flew\", \"flown\"]\n",
        "\n",
        "print(\"Porter Stemmer : \", [st1.stem(w) for w in words])\n",
        "print(\"Lancaster Stemmer : \", [st1.stem(w) for w in words])"
      ],
      "metadata": {
        "colab": {
          "base_uri": "https://localhost:8080/"
        },
        "id": "ixJ42gFBpQZl",
        "outputId": "7dd947e4-e08c-4894-a28e-59f22b46a9ac"
      },
      "execution_count": 41,
      "outputs": [
        {
          "output_type": "stream",
          "name": "stdout",
          "text": [
            "Porter Stemmer :  ['fli', 'fli', 'fli', 'flew', 'flown']\n",
            "Lancaster Stemmer :  ['fli', 'fli', 'fli', 'flew', 'flown']\n"
          ]
        }
      ]
    },
    {
      "cell_type": "code",
      "source": [
        "# 단어의 원형 찾아내기 \n",
        "\n",
        "import nltk\n",
        "nltk.download('omw-1.4')  \n",
        "\n",
        "from nltk.stem import WordNetLemmatizer\n",
        "\n",
        "lm = WordNetLemmatizer()\n",
        "\n",
        "[lm.lemmatize(w, pos=\"v\") for w in words]"
      ],
      "metadata": {
        "colab": {
          "base_uri": "https://localhost:8080/"
        },
        "id": "FloMb2izqcK4",
        "outputId": "c13d934b-cc6b-4f43-c1e6-bf9f1850e969"
      },
      "execution_count": 44,
      "outputs": [
        {
          "output_type": "stream",
          "name": "stderr",
          "text": [
            "[nltk_data] Downloading package omw-1.4 to /root/nltk_data...\n"
          ]
        },
        {
          "output_type": "execute_result",
          "data": {
            "text/plain": [
              "['fly', 'fly', 'fly', 'fly', 'fly']"
            ]
          },
          "metadata": {},
          "execution_count": 44
        }
      ]
    },
    {
      "cell_type": "code",
      "source": [
        "# 품사별 설명(동사)\n",
        "nltk.help.upenn_tagset(\"VB\")"
      ],
      "metadata": {
        "colab": {
          "base_uri": "https://localhost:8080/"
        },
        "id": "e9p7URB4rBl4",
        "outputId": "c06b5643-c82e-4b47-ec95-6f74d140ea83"
      },
      "execution_count": 45,
      "outputs": [
        {
          "output_type": "stream",
          "name": "stdout",
          "text": [
            "VB: verb, base form\n",
            "    ask assemble assess assign assume atone attention avoid bake balkanize\n",
            "    bank begin behold believe bend benefit bevel beware bless boil bomb\n",
            "    boost brace break bring broil brush build ...\n"
          ]
        }
      ]
    },
    {
      "cell_type": "code",
      "source": [
        "# 품사별로 형태소 단위 나누기 \n",
        "\n",
        "'''\n",
        "NNP: 단수 고유명사\n",
        "VB: 동사\n",
        "VBP: 동사 현재형\n",
        "TO: to 전치사\n",
        "NN: 명사(단수형 혹은 집합형)\n",
        "DT: 관형사\n",
        "'''\n",
        "\n",
        "from nltk.tag import pos_tag\n",
        "sentence = \"You always think about that is so different between you and me\"\n",
        "tagged_list = pos_tag(word_tokenize(sentence))\n",
        "tagged_list"
      ],
      "metadata": {
        "colab": {
          "base_uri": "https://localhost:8080/"
        },
        "id": "a-8q7flhrRCr",
        "outputId": "556f66a9-707e-4a32-8f21-fbe9197e865b"
      },
      "execution_count": 46,
      "outputs": [
        {
          "output_type": "execute_result",
          "data": {
            "text/plain": [
              "[('You', 'PRP'),\n",
              " ('always', 'RB'),\n",
              " ('think', 'VBP'),\n",
              " ('about', 'IN'),\n",
              " ('that', 'DT'),\n",
              " ('is', 'VBZ'),\n",
              " ('so', 'RB'),\n",
              " ('different', 'JJ'),\n",
              " ('between', 'IN'),\n",
              " ('you', 'PRP'),\n",
              " ('and', 'CC'),\n",
              " ('me', 'PRP')]"
            ]
          },
          "metadata": {},
          "execution_count": 46
        }
      ]
    },
    {
      "cell_type": "code",
      "source": [
        "# 인칭 대명사\n",
        "nonus_list = [t[0] for t in tagged_list if t[1] == \"PRP\"]\n",
        "nonus_list"
      ],
      "metadata": {
        "colab": {
          "base_uri": "https://localhost:8080/"
        },
        "id": "x46p96Ncrz5B",
        "outputId": "bee3607d-526b-4723-b851-667e9b366aa8"
      },
      "execution_count": 49,
      "outputs": [
        {
          "output_type": "execute_result",
          "data": {
            "text/plain": [
              "['You', 'you', 'me']"
            ]
          },
          "metadata": {},
          "execution_count": 49
        }
      ]
    },
    {
      "cell_type": "code",
      "source": [
        "# 품사 튜플 없애기 \n",
        "from nltk.tag import untag\n",
        "untag(tagged_list)"
      ],
      "metadata": {
        "colab": {
          "base_uri": "https://localhost:8080/"
        },
        "id": "nrQ7LOy-s2Ak",
        "outputId": "62d1a2d4-189a-4997-a722-0adac6e7b368"
      },
      "execution_count": 50,
      "outputs": [
        {
          "output_type": "execute_result",
          "data": {
            "text/plain": [
              "['You',\n",
              " 'always',\n",
              " 'think',\n",
              " 'about',\n",
              " 'that',\n",
              " 'is',\n",
              " 'so',\n",
              " 'different',\n",
              " 'between',\n",
              " 'you',\n",
              " 'and',\n",
              " 'me']"
            ]
          },
          "metadata": {},
          "execution_count": 50
        }
      ]
    },
    {
      "cell_type": "code",
      "source": [
        "# 토큰 + 품사 = 새로운 토큰 (skikit-learn에서 같은 토근 다른 품사면, 다른 토큰으로 인식 처리 방지)\n",
        "def tokenizer(doc):\n",
        "  return[\"/\".join(p) for p in tagged_list]\n",
        "\n",
        "tokenizer(sentence)"
      ],
      "metadata": {
        "colab": {
          "base_uri": "https://localhost:8080/"
        },
        "id": "4kq81UH-tKG9",
        "outputId": "0b3e5ea8-d9c6-4b87-82da-95ad7df10d29"
      },
      "execution_count": 51,
      "outputs": [
        {
          "output_type": "execute_result",
          "data": {
            "text/plain": [
              "['You/PRP',\n",
              " 'always/RB',\n",
              " 'think/VBP',\n",
              " 'about/IN',\n",
              " 'that/DT',\n",
              " 'is/VBZ',\n",
              " 'so/RB',\n",
              " 'different/JJ',\n",
              " 'between/IN',\n",
              " 'you/PRP',\n",
              " 'and/CC',\n",
              " 'me/PRP']"
            ]
          },
          "metadata": {},
          "execution_count": 51
        }
      ]
    },
    {
      "cell_type": "code",
      "source": [
        "# 20개의 사용 빈도 그래프\n",
        "from nltk import Text\n",
        "\n",
        "text = Text(retokenize.tokenize(persuasion))\n",
        "\n",
        "text.plot(20)"
      ],
      "metadata": {
        "colab": {
          "base_uri": "https://localhost:8080/",
          "height": 308
        },
        "id": "vcxAgVNVuc-3",
        "outputId": "654248a6-9ab0-4007-a504-4609eec99947"
      },
      "execution_count": 56,
      "outputs": [
        {
          "output_type": "display_data",
          "data": {
            "text/plain": [
              "<Figure size 432x288 with 1 Axes>"
            ],
            "image/png": "[encoded data removed]"
          },
          "metadata": {
            "needs_background": "light"
          }
        },
        {
          "output_type": "execute_result",
          "data": {
            "text/plain": [
              "<matplotlib.axes._subplots.AxesSubplot at 0x7f74bcefe2d0>"
            ]
          },
          "metadata": {},
          "execution_count": 56
        }
      ]
    }
  ]
}